{
 "cells": [
  {
   "cell_type": "code",
   "execution_count": 2,
   "id": "208ac685-40da-446a-b2e7-9a2d1af887d9",
   "metadata": {
    "tags": []
   },
   "outputs": [],
   "source": [
    "import os\n",
    "from cicliminds_lib.query.files import get_datasets\n",
    "from cicliminds.app import App\n",
    "from cicliminds.settings import set_plt_reasonable_defaults\n",
    "set_plt_reasonable_defaults()"
   ]
  },
  {
   "cell_type": "code",
   "execution_count": 3,
   "id": "187c2686-9c5f-46f5-af3e-7b6e6be2ef3b",
   "metadata": {},
   "outputs": [
    {
     "data": {
      "text/plain": [
       "'/home/viktoana/projects/cicero/data/Climdex_base1981-2010'"
      ]
     },
     "metadata": {},
     "output_type": "display_data"
    }
   ],
   "source": [
    "DATA_DIR = os.environ[\"DATA_DIR\"]\n",
    "display(DATA_DIR)"
   ]
  },
  {
   "cell_type": "code",
   "execution_count": 4,
   "id": "725ae76e-27b0-4e86-adf8-72e218d91b8e",
   "metadata": {},
   "outputs": [],
   "source": [
    "DATASETS = get_datasets(DATA_DIR)"
   ]
  },
  {
   "cell_type": "code",
   "execution_count": 5,
   "id": "d3f41954-6ed9-416a-adb5-76d726e41d8c",
   "metadata": {},
   "outputs": [
    {
     "data": {
      "application/vnd.jupyter.widget-view+json": {
       "model_id": "7e9d2b97e8d94e64812b988e82fb9956",
       "version_major": 2,
       "version_minor": 0
      },
      "text/plain": [
       "VBox(children=(VBox(children=(Label(value='Configuration filter:'), HBox(children=(VBox(children=(Label(value=…"
      ]
     },
     "metadata": {},
     "output_type": "display_data"
    }
   ],
   "source": [
    "app = App(DATASETS)\n",
    "app.render()"
   ]
  }
 ],
 "metadata": {
  "kernelspec": {
   "display_name": "Python 3 (ipykernel)",
   "language": "python",
   "name": "python3"
  },
  "language_info": {
   "codemirror_mode": {
    "name": "ipython",
    "version": 3
   },
   "file_extension": ".py",
   "mimetype": "text/x-python",
   "name": "python",
   "nbconvert_exporter": "python",
   "pygments_lexer": "ipython3",
   "version": "3.9.4"
  }
 },
 "nbformat": 4,
 "nbformat_minor": 5
}
