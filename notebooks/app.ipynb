{
 "cells": [
  {
   "cell_type": "code",
   "execution_count": null,
   "id": "208ac685-40da-446a-b2e7-9a2d1af887d9",
   "metadata": {
    "tags": []
   },
   "outputs": [],
   "source": [
    "import os\n",
    "from cicliminds_lib.query.files import get_datasets\n",
    "from cicliminds_lib.query.files import get_model_weights\n",
    "from cicliminds.app import App\n",
    "from cicliminds.settings import set_plt_reasonable_defaults\n",
    "set_plt_reasonable_defaults()"
   ]
  },
  {
   "cell_type": "code",
   "execution_count": null,
   "id": "187c2686-9c5f-46f5-af3e-7b6e6be2ef3b",
   "metadata": {},
   "outputs": [],
   "source": [
    "DATA_DIR = os.environ[\"DATA_DIR\"]\n",
    "display(DATA_DIR)\n",
    "MODEL_WEIGHTS_DIR = os.environ[\"MODEL_WEIGHTS_DIR\"]\n",
    "display(MODEL_WEIGHTS_DIR)"
   ]
  },
  {
   "cell_type": "code",
   "execution_count": null,
   "id": "725ae76e-27b0-4e86-adf8-72e218d91b8e",
   "metadata": {},
   "outputs": [],
   "source": [
    "DATASETS = get_datasets(DATA_DIR);\n",
    "DATASETS"
   ]
  },
  {
   "cell_type": "code",
   "execution_count": null,
   "id": "4be7cdd0-7d07-484a-b89a-76138833f6aa",
   "metadata": {},
   "outputs": [],
   "source": [
    "MODEL_WEIGHTS = get_model_weights(MODEL_WEIGHTS_DIR);\n",
    "MODEL_WEIGHTS"
   ]
  },
  {
   "cell_type": "code",
   "execution_count": null,
   "id": "b0f36459-13a4-4876-833b-3b1f9347bb6a",
   "metadata": {
    "tags": []
   },
   "outputs": [],
   "source": [
    "app = App(DATASETS, MODEL_WEIGHTS)\n",
    "app.render()"
   ]
  },
  {
   "cell_type": "code",
   "execution_count": null,
   "id": "d83219f2-9c94-449d-aa0b-55a126831d94",
   "metadata": {},
   "outputs": [],
   "source": []
  }
 ],
 "metadata": {
  "kernelspec": {
   "display_name": "Python 3 (ipykernel)",
   "language": "python",
   "name": "python3"
  },
  "language_info": {
   "codemirror_mode": {
    "name": "ipython",
    "version": 3
   },
   "file_extension": ".py",
   "mimetype": "text/x-python",
   "name": "python",
   "nbconvert_exporter": "python",
   "pygments_lexer": "ipython3",
   "version": "3.9.6"
  }
 },
 "nbformat": 4,
 "nbformat_minor": 5
}
