{
 "cells": [
  {
   "cell_type": "code",
   "execution_count": 5,
   "id": "208ac685-40da-446a-b2e7-9a2d1af887d9",
   "metadata": {
    "tags": []
   },
   "outputs": [],
   "source": [
    "import os\n",
    "from cicliminds_lib.query.files import get_datasets\n",
    "from cicliminds.app import App\n",
    "from cicliminds.settings import set_plt_reasonable_defaults\n",
    "set_plt_reasonable_defaults()"
   ]
  },
  {
   "cell_type": "code",
   "execution_count": 6,
   "id": "187c2686-9c5f-46f5-af3e-7b6e6be2ef3b",
   "metadata": {},
   "outputs": [
    {
     "data": {
      "text/plain": [
       "'/home/viktoana/projects/cicero/data/Climdex_base1981-2010'"
      ]
     },
     "metadata": {},
     "output_type": "display_data"
    }
   ],
   "source": [
    "DATA_DIR = os.environ[\"DATA_DIR\"]\n",
    "display(DATA_DIR)"
   ]
  },
  {
   "cell_type": "code",
   "execution_count": 7,
   "id": "725ae76e-27b0-4e86-adf8-72e218d91b8e",
   "metadata": {},
   "outputs": [
    {
     "data": {
      "text/html": [
       "<div>\n",
       "<style scoped>\n",
       "    .dataframe tbody tr th:only-of-type {\n",
       "        vertical-align: middle;\n",
       "    }\n",
       "\n",
       "    .dataframe tbody tr th {\n",
       "        vertical-align: top;\n",
       "    }\n",
       "\n",
       "    .dataframe thead th {\n",
       "        text-align: right;\n",
       "    }\n",
       "</style>\n",
       "<table border=\"1\" class=\"dataframe\">\n",
       "  <thead>\n",
       "    <tr style=\"text-align: right;\">\n",
       "      <th></th>\n",
       "      <th>variable</th>\n",
       "      <th>frequency</th>\n",
       "      <th>model</th>\n",
       "      <th>scenario</th>\n",
       "      <th>init_params</th>\n",
       "      <th>timespan</th>\n",
       "    </tr>\n",
       "    <tr>\n",
       "      <th>path</th>\n",
       "      <th></th>\n",
       "      <th></th>\n",
       "      <th></th>\n",
       "      <th></th>\n",
       "      <th></th>\n",
       "      <th></th>\n",
       "    </tr>\n",
       "  </thead>\n",
       "  <tbody>\n",
       "    <tr>\n",
       "      <th>/home/viktoana/projects/cicero/data/Climdex_base1981-2010/altcddETCCDI_yr_CNRM-ESM2-1_historical_r1i1p1f2_1850-2014.nc</th>\n",
       "      <td>altcddETCCDI</td>\n",
       "      <td>yr</td>\n",
       "      <td>CNRM-ESM2-1</td>\n",
       "      <td>historical</td>\n",
       "      <td>r1i1p1f2</td>\n",
       "      <td>1850-2014</td>\n",
       "    </tr>\n",
       "    <tr>\n",
       "      <th>/home/viktoana/projects/cicero/data/Climdex_base1981-2010/altcddETCCDI_yr_ACCESS-CM2_historical_r1i1p1f1_1850-2014.nc</th>\n",
       "      <td>altcddETCCDI</td>\n",
       "      <td>yr</td>\n",
       "      <td>ACCESS-CM2</td>\n",
       "      <td>historical</td>\n",
       "      <td>r1i1p1f1</td>\n",
       "      <td>1850-2014</td>\n",
       "    </tr>\n",
       "    <tr>\n",
       "      <th>/home/viktoana/projects/cicero/data/Climdex_base1981-2010/altcddETCCDI_yr_CNRM-ESM2-1_ssp126_r1i1p1f2_2015-2100.nc</th>\n",
       "      <td>altcddETCCDI</td>\n",
       "      <td>yr</td>\n",
       "      <td>CNRM-ESM2-1</td>\n",
       "      <td>ssp126</td>\n",
       "      <td>r1i1p1f2</td>\n",
       "      <td>2015-2100</td>\n",
       "    </tr>\n",
       "    <tr>\n",
       "      <th>/home/viktoana/projects/cicero/data/Climdex_base1981-2010/altcddETCCDI_yr_ACCESS-CM2_ssp126_r1i1p1f1_2015-2100.nc</th>\n",
       "      <td>altcddETCCDI</td>\n",
       "      <td>yr</td>\n",
       "      <td>ACCESS-CM2</td>\n",
       "      <td>ssp126</td>\n",
       "      <td>r1i1p1f1</td>\n",
       "      <td>2015-2100</td>\n",
       "    </tr>\n",
       "    <tr>\n",
       "      <th>/home/viktoana/projects/cicero/data/Climdex_base1981-2010/altcddETCCDI_yr_CNRM-ESM2-1_ssp245_r1i1p1f2_2015-2100.nc</th>\n",
       "      <td>altcddETCCDI</td>\n",
       "      <td>yr</td>\n",
       "      <td>CNRM-ESM2-1</td>\n",
       "      <td>ssp245</td>\n",
       "      <td>r1i1p1f2</td>\n",
       "      <td>2015-2100</td>\n",
       "    </tr>\n",
       "    <tr>\n",
       "      <th>...</th>\n",
       "      <td>...</td>\n",
       "      <td>...</td>\n",
       "      <td>...</td>\n",
       "      <td>...</td>\n",
       "      <td>...</td>\n",
       "      <td>...</td>\n",
       "    </tr>\n",
       "    <tr>\n",
       "      <th>/home/viktoana/projects/cicero/data/Climdex_base1981-2010/wsdiETCCDI_yr_UKESM1-0-LL_historical_r1i1p1f2_1850-2014.nc</th>\n",
       "      <td>wsdiETCCDI</td>\n",
       "      <td>yr</td>\n",
       "      <td>UKESM1-0-LL</td>\n",
       "      <td>historical</td>\n",
       "      <td>r1i1p1f2</td>\n",
       "      <td>1850-2014</td>\n",
       "    </tr>\n",
       "    <tr>\n",
       "      <th>/home/viktoana/projects/cicero/data/Climdex_base1981-2010/wsdiETCCDI_yr_UKESM1-0-LL_ssp126_r1i1p1f2_2015-2100.nc</th>\n",
       "      <td>wsdiETCCDI</td>\n",
       "      <td>yr</td>\n",
       "      <td>UKESM1-0-LL</td>\n",
       "      <td>ssp126</td>\n",
       "      <td>r1i1p1f2</td>\n",
       "      <td>2015-2100</td>\n",
       "    </tr>\n",
       "    <tr>\n",
       "      <th>/home/viktoana/projects/cicero/data/Climdex_base1981-2010/wsdiETCCDI_yr_UKESM1-0-LL_ssp245_r1i1p1f2_2015-2100.nc</th>\n",
       "      <td>wsdiETCCDI</td>\n",
       "      <td>yr</td>\n",
       "      <td>UKESM1-0-LL</td>\n",
       "      <td>ssp245</td>\n",
       "      <td>r1i1p1f2</td>\n",
       "      <td>2015-2100</td>\n",
       "    </tr>\n",
       "    <tr>\n",
       "      <th>/home/viktoana/projects/cicero/data/Climdex_base1981-2010/wsdiETCCDI_yr_UKESM1-0-LL_ssp370_r1i1p1f2_2015-2100.nc</th>\n",
       "      <td>wsdiETCCDI</td>\n",
       "      <td>yr</td>\n",
       "      <td>UKESM1-0-LL</td>\n",
       "      <td>ssp370</td>\n",
       "      <td>r1i1p1f2</td>\n",
       "      <td>2015-2100</td>\n",
       "    </tr>\n",
       "    <tr>\n",
       "      <th>/home/viktoana/projects/cicero/data/Climdex_base1981-2010/wsdiETCCDI_yr_UKESM1-0-LL_ssp585_r1i1p1f2_2015-2100.nc</th>\n",
       "      <td>wsdiETCCDI</td>\n",
       "      <td>yr</td>\n",
       "      <td>UKESM1-0-LL</td>\n",
       "      <td>ssp585</td>\n",
       "      <td>r1i1p1f2</td>\n",
       "      <td>2015-2100</td>\n",
       "    </tr>\n",
       "  </tbody>\n",
       "</table>\n",
       "<p>28896 rows × 6 columns</p>\n",
       "</div>"
      ],
      "text/plain": [
       "                                                        variable frequency  \\\n",
       "path                                                                         \n",
       "/home/viktoana/projects/cicero/data/Climdex_bas...  altcddETCCDI        yr   \n",
       "/home/viktoana/projects/cicero/data/Climdex_bas...  altcddETCCDI        yr   \n",
       "/home/viktoana/projects/cicero/data/Climdex_bas...  altcddETCCDI        yr   \n",
       "/home/viktoana/projects/cicero/data/Climdex_bas...  altcddETCCDI        yr   \n",
       "/home/viktoana/projects/cicero/data/Climdex_bas...  altcddETCCDI        yr   \n",
       "...                                                          ...       ...   \n",
       "/home/viktoana/projects/cicero/data/Climdex_bas...    wsdiETCCDI        yr   \n",
       "/home/viktoana/projects/cicero/data/Climdex_bas...    wsdiETCCDI        yr   \n",
       "/home/viktoana/projects/cicero/data/Climdex_bas...    wsdiETCCDI        yr   \n",
       "/home/viktoana/projects/cicero/data/Climdex_bas...    wsdiETCCDI        yr   \n",
       "/home/viktoana/projects/cicero/data/Climdex_bas...    wsdiETCCDI        yr   \n",
       "\n",
       "                                                          model    scenario  \\\n",
       "path                                                                          \n",
       "/home/viktoana/projects/cicero/data/Climdex_bas...  CNRM-ESM2-1  historical   \n",
       "/home/viktoana/projects/cicero/data/Climdex_bas...   ACCESS-CM2  historical   \n",
       "/home/viktoana/projects/cicero/data/Climdex_bas...  CNRM-ESM2-1      ssp126   \n",
       "/home/viktoana/projects/cicero/data/Climdex_bas...   ACCESS-CM2      ssp126   \n",
       "/home/viktoana/projects/cicero/data/Climdex_bas...  CNRM-ESM2-1      ssp245   \n",
       "...                                                         ...         ...   \n",
       "/home/viktoana/projects/cicero/data/Climdex_bas...  UKESM1-0-LL  historical   \n",
       "/home/viktoana/projects/cicero/data/Climdex_bas...  UKESM1-0-LL      ssp126   \n",
       "/home/viktoana/projects/cicero/data/Climdex_bas...  UKESM1-0-LL      ssp245   \n",
       "/home/viktoana/projects/cicero/data/Climdex_bas...  UKESM1-0-LL      ssp370   \n",
       "/home/viktoana/projects/cicero/data/Climdex_bas...  UKESM1-0-LL      ssp585   \n",
       "\n",
       "                                                   init_params   timespan  \n",
       "path                                                                       \n",
       "/home/viktoana/projects/cicero/data/Climdex_bas...    r1i1p1f2  1850-2014  \n",
       "/home/viktoana/projects/cicero/data/Climdex_bas...    r1i1p1f1  1850-2014  \n",
       "/home/viktoana/projects/cicero/data/Climdex_bas...    r1i1p1f2  2015-2100  \n",
       "/home/viktoana/projects/cicero/data/Climdex_bas...    r1i1p1f1  2015-2100  \n",
       "/home/viktoana/projects/cicero/data/Climdex_bas...    r1i1p1f2  2015-2100  \n",
       "...                                                        ...        ...  \n",
       "/home/viktoana/projects/cicero/data/Climdex_bas...    r1i1p1f2  1850-2014  \n",
       "/home/viktoana/projects/cicero/data/Climdex_bas...    r1i1p1f2  2015-2100  \n",
       "/home/viktoana/projects/cicero/data/Climdex_bas...    r1i1p1f2  2015-2100  \n",
       "/home/viktoana/projects/cicero/data/Climdex_bas...    r1i1p1f2  2015-2100  \n",
       "/home/viktoana/projects/cicero/data/Climdex_bas...    r1i1p1f2  2015-2100  \n",
       "\n",
       "[28896 rows x 6 columns]"
      ]
     },
     "execution_count": 7,
     "metadata": {},
     "output_type": "execute_result"
    }
   ],
   "source": [
    "DATASETS = get_datasets(DATA_DIR);\n",
    "DATASETS"
   ]
  },
  {
   "cell_type": "code",
   "execution_count": 8,
   "id": "b0f36459-13a4-4876-833b-3b1f9347bb6a",
   "metadata": {},
   "outputs": [
    {
     "data": {
      "application/vnd.jupyter.widget-view+json": {
       "model_id": "dbf88bf5b67b473f9bbde9d7f95eb2a4",
       "version_major": 2,
       "version_minor": 0
      },
      "text/plain": [
       "VBox(children=(VBox(children=(Label(value='Configuration filter:'), HBox(children=(VBox(children=(Label(value=…"
      ]
     },
     "metadata": {},
     "output_type": "display_data"
    }
   ],
   "source": [
    "app = App(DATASETS)\n",
    "app.render()"
   ]
  },
  {
   "cell_type": "code",
   "execution_count": null,
   "id": "ae3cbf55-ab61-41f5-8fb1-a8defc26e088",
   "metadata": {},
   "outputs": [],
   "source": []
  },
  {
   "cell_type": "code",
   "execution_count": null,
   "id": "c7520d55-de3a-4998-9c96-af45ccdcb9fd",
   "metadata": {},
   "outputs": [],
   "source": []
  }
 ],
 "metadata": {
  "kernelspec": {
   "display_name": "Python 3 (ipykernel)",
   "language": "python",
   "name": "python3"
  },
  "language_info": {
   "codemirror_mode": {
    "name": "ipython",
    "version": 3
   },
   "file_extension": ".py",
   "mimetype": "text/x-python",
   "name": "python",
   "nbconvert_exporter": "python",
   "pygments_lexer": "ipython3",
   "version": "3.9.4"
  }
 },
 "nbformat": 4,
 "nbformat_minor": 5
}
