{
 "cells": [
  {
   "cell_type": "code",
   "execution_count": 1,
   "id": "bccfcaf2-cd81-447c-a7df-e8ed39e89f4c",
   "metadata": {
    "tags": []
   },
   "outputs": [],
   "source": [
    "import os\n",
    "import itertools\n",
    "import logging\n",
    "logging.basicConfig()\n",
    "import json\n",
    "import tempfile\n",
    "from copy import deepcopy\n",
    "from collections import defaultdict\n",
    "from functools import partial\n",
    "\n",
    "import matplotlib.pyplot as plt\n",
    "\n",
    "import ipywidgets as widgets\n",
    "from ipywidgets import GridspecLayout, Layout, Label, VBox, HBox, Box, Output, Button, SelectMultiple, Checkbox, IntText, Textarea"
   ]
  },
  {
   "cell_type": "code",
   "execution_count": 2,
   "id": "208ac685-40da-446a-b2e7-9a2d1af887d9",
   "metadata": {
    "tags": []
   },
   "outputs": [],
   "source": [
    "logging.getLogger(\"cicliminds_lib\").setLevel(logging.INFO)\n",
    "from cicliminds_lib.query.files import get_datasets"
   ]
  },
  {
   "cell_type": "code",
   "execution_count": 3,
   "id": "1b668979-1f99-4dc6-ba8b-5d5fe5af438e",
   "metadata": {},
   "outputs": [],
   "source": [
    "from cicliminds.widgets.filter import FilterWidget\n",
    "from cicliminds.widgets.filtered import FilteredWidget\n",
    "from cicliminds.widgets.staging import StagingWidget\n",
    "\n",
    "from cicliminds.interface import expand_state_into_queries\n",
    "from cicliminds.backend import write_dataset_by_query\n",
    "from cicliminds.backend import plot_by_query"
   ]
  },
  {
   "cell_type": "code",
   "execution_count": 4,
   "id": "a58f45e4-64dc-466a-9cb3-758241639462",
   "metadata": {
    "tags": []
   },
   "outputs": [],
   "source": [
    "plt.rcParams[\"figure.figsize\"] = (12,8)\n",
    "plt.rcParams['figure.constrained_layout.use'] = True\n",
    "plt.rcParams[\"xtick.direction\"] = \"in\"\n",
    "plt.rcParams[\"xtick.major.size\"] = 8\n",
    "plt.rcParams[\"xtick.major.width\"] = 1.6\n",
    "plt.rcParams[\"xtick.minor.width\"] = 0.8\n",
    "plt.rcParams[\"xtick.minor.size\"] = 4\n",
    "plt.rcParams[\"ytick.direction\"] = \"in\"\n",
    "plt.rcParams[\"ytick.major.width\"] = 1.6\n",
    "plt.rcParams[\"ytick.minor.width\"] = 0.8\n",
    "plt.rcParams[\"ytick.major.size\"] = 8\n",
    "plt.rcParams[\"ytick.minor.size\"] = 4\n",
    "plt.rcParams[\"font.size\"] = 16\n",
    "plt.rcParams[\"lines.linewidth\"] = 3\n",
    "plt.rcParams[\"lines.markersize\"] = 5\n",
    "plt.rcParams[\"savefig.dpi\"] = 300/2.4\n",
    "plt.rcParams[\"savefig.transparent\"] = False\n",
    "plt.rcParams[\"savefig.facecolor\"] = \"white\""
   ]
  },
  {
   "cell_type": "code",
   "execution_count": 5,
   "id": "187c2686-9c5f-46f5-af3e-7b6e6be2ef3b",
   "metadata": {},
   "outputs": [
    {
     "data": {
      "text/plain": [
       "'/home/viktoana/projects/cicero/data/Climdex_base1981-2010'"
      ]
     },
     "metadata": {},
     "output_type": "display_data"
    }
   ],
   "source": [
    "DATA_DIR = os.environ[\"DATA_DIR\"]\n",
    "display(DATA_DIR)"
   ]
  },
  {
   "cell_type": "code",
   "execution_count": 6,
   "id": "725ae76e-27b0-4e86-adf8-72e218d91b8e",
   "metadata": {},
   "outputs": [],
   "source": [
    "DATASETS = get_datasets(DATA_DIR)"
   ]
  },
  {
   "cell_type": "code",
   "execution_count": 7,
   "id": "7b094ae4-3b07-48e8-98be-d65f0a9b5979",
   "metadata": {},
   "outputs": [
    {
     "data": {
      "text/html": [
       "<div>\n",
       "<style scoped>\n",
       "    .dataframe tbody tr th:only-of-type {\n",
       "        vertical-align: middle;\n",
       "    }\n",
       "\n",
       "    .dataframe tbody tr th {\n",
       "        vertical-align: top;\n",
       "    }\n",
       "\n",
       "    .dataframe thead th {\n",
       "        text-align: right;\n",
       "    }\n",
       "</style>\n",
       "<table border=\"1\" class=\"dataframe\">\n",
       "  <thead>\n",
       "    <tr style=\"text-align: right;\">\n",
       "      <th></th>\n",
       "      <th>variable</th>\n",
       "      <th>frequency</th>\n",
       "      <th>model</th>\n",
       "      <th>scenario</th>\n",
       "      <th>init_params</th>\n",
       "      <th>timespan</th>\n",
       "    </tr>\n",
       "    <tr>\n",
       "      <th>path</th>\n",
       "      <th></th>\n",
       "      <th></th>\n",
       "      <th></th>\n",
       "      <th></th>\n",
       "      <th></th>\n",
       "      <th></th>\n",
       "    </tr>\n",
       "  </thead>\n",
       "  <tbody>\n",
       "    <tr>\n",
       "      <th>/home/viktoana/projects/cicero/data/Climdex_base1981-2010/altcddETCCDI_yr_CNRM-ESM2-1_historical_r1i1p1f2_1850-2014.nc</th>\n",
       "      <td>altcddETCCDI</td>\n",
       "      <td>yr</td>\n",
       "      <td>CNRM-ESM2-1</td>\n",
       "      <td>historical</td>\n",
       "      <td>r1i1p1f2</td>\n",
       "      <td>1850-2014</td>\n",
       "    </tr>\n",
       "    <tr>\n",
       "      <th>/home/viktoana/projects/cicero/data/Climdex_base1981-2010/altcddETCCDI_yr_ACCESS-CM2_historical_r1i1p1f1_1850-2014.nc</th>\n",
       "      <td>altcddETCCDI</td>\n",
       "      <td>yr</td>\n",
       "      <td>ACCESS-CM2</td>\n",
       "      <td>historical</td>\n",
       "      <td>r1i1p1f1</td>\n",
       "      <td>1850-2014</td>\n",
       "    </tr>\n",
       "    <tr>\n",
       "      <th>/home/viktoana/projects/cicero/data/Climdex_base1981-2010/altcddETCCDI_yr_CNRM-ESM2-1_ssp126_r1i1p1f2_2015-2100.nc</th>\n",
       "      <td>altcddETCCDI</td>\n",
       "      <td>yr</td>\n",
       "      <td>CNRM-ESM2-1</td>\n",
       "      <td>ssp126</td>\n",
       "      <td>r1i1p1f2</td>\n",
       "      <td>2015-2100</td>\n",
       "    </tr>\n",
       "    <tr>\n",
       "      <th>/home/viktoana/projects/cicero/data/Climdex_base1981-2010/altcddETCCDI_yr_ACCESS-CM2_ssp126_r1i1p1f1_2015-2100.nc</th>\n",
       "      <td>altcddETCCDI</td>\n",
       "      <td>yr</td>\n",
       "      <td>ACCESS-CM2</td>\n",
       "      <td>ssp126</td>\n",
       "      <td>r1i1p1f1</td>\n",
       "      <td>2015-2100</td>\n",
       "    </tr>\n",
       "    <tr>\n",
       "      <th>/home/viktoana/projects/cicero/data/Climdex_base1981-2010/altcddETCCDI_yr_CNRM-ESM2-1_ssp245_r1i1p1f2_2015-2100.nc</th>\n",
       "      <td>altcddETCCDI</td>\n",
       "      <td>yr</td>\n",
       "      <td>CNRM-ESM2-1</td>\n",
       "      <td>ssp245</td>\n",
       "      <td>r1i1p1f2</td>\n",
       "      <td>2015-2100</td>\n",
       "    </tr>\n",
       "    <tr>\n",
       "      <th>...</th>\n",
       "      <td>...</td>\n",
       "      <td>...</td>\n",
       "      <td>...</td>\n",
       "      <td>...</td>\n",
       "      <td>...</td>\n",
       "      <td>...</td>\n",
       "    </tr>\n",
       "    <tr>\n",
       "      <th>/home/viktoana/projects/cicero/data/Climdex_base1981-2010/wsdiETCCDI_yr_UKESM1-0-LL_historical_r1i1p1f2_1850-2014.nc</th>\n",
       "      <td>wsdiETCCDI</td>\n",
       "      <td>yr</td>\n",
       "      <td>UKESM1-0-LL</td>\n",
       "      <td>historical</td>\n",
       "      <td>r1i1p1f2</td>\n",
       "      <td>1850-2014</td>\n",
       "    </tr>\n",
       "    <tr>\n",
       "      <th>/home/viktoana/projects/cicero/data/Climdex_base1981-2010/wsdiETCCDI_yr_UKESM1-0-LL_ssp126_r1i1p1f2_2015-2100.nc</th>\n",
       "      <td>wsdiETCCDI</td>\n",
       "      <td>yr</td>\n",
       "      <td>UKESM1-0-LL</td>\n",
       "      <td>ssp126</td>\n",
       "      <td>r1i1p1f2</td>\n",
       "      <td>2015-2100</td>\n",
       "    </tr>\n",
       "    <tr>\n",
       "      <th>/home/viktoana/projects/cicero/data/Climdex_base1981-2010/wsdiETCCDI_yr_UKESM1-0-LL_ssp245_r1i1p1f2_2015-2100.nc</th>\n",
       "      <td>wsdiETCCDI</td>\n",
       "      <td>yr</td>\n",
       "      <td>UKESM1-0-LL</td>\n",
       "      <td>ssp245</td>\n",
       "      <td>r1i1p1f2</td>\n",
       "      <td>2015-2100</td>\n",
       "    </tr>\n",
       "    <tr>\n",
       "      <th>/home/viktoana/projects/cicero/data/Climdex_base1981-2010/wsdiETCCDI_yr_UKESM1-0-LL_ssp370_r1i1p1f2_2015-2100.nc</th>\n",
       "      <td>wsdiETCCDI</td>\n",
       "      <td>yr</td>\n",
       "      <td>UKESM1-0-LL</td>\n",
       "      <td>ssp370</td>\n",
       "      <td>r1i1p1f2</td>\n",
       "      <td>2015-2100</td>\n",
       "    </tr>\n",
       "    <tr>\n",
       "      <th>/home/viktoana/projects/cicero/data/Climdex_base1981-2010/wsdiETCCDI_yr_UKESM1-0-LL_ssp585_r1i1p1f2_2015-2100.nc</th>\n",
       "      <td>wsdiETCCDI</td>\n",
       "      <td>yr</td>\n",
       "      <td>UKESM1-0-LL</td>\n",
       "      <td>ssp585</td>\n",
       "      <td>r1i1p1f2</td>\n",
       "      <td>2015-2100</td>\n",
       "    </tr>\n",
       "  </tbody>\n",
       "</table>\n",
       "<p>28896 rows × 6 columns</p>\n",
       "</div>"
      ],
      "text/plain": [
       "                                                        variable frequency  \\\n",
       "path                                                                         \n",
       "/home/viktoana/projects/cicero/data/Climdex_bas...  altcddETCCDI        yr   \n",
       "/home/viktoana/projects/cicero/data/Climdex_bas...  altcddETCCDI        yr   \n",
       "/home/viktoana/projects/cicero/data/Climdex_bas...  altcddETCCDI        yr   \n",
       "/home/viktoana/projects/cicero/data/Climdex_bas...  altcddETCCDI        yr   \n",
       "/home/viktoana/projects/cicero/data/Climdex_bas...  altcddETCCDI        yr   \n",
       "...                                                          ...       ...   \n",
       "/home/viktoana/projects/cicero/data/Climdex_bas...    wsdiETCCDI        yr   \n",
       "/home/viktoana/projects/cicero/data/Climdex_bas...    wsdiETCCDI        yr   \n",
       "/home/viktoana/projects/cicero/data/Climdex_bas...    wsdiETCCDI        yr   \n",
       "/home/viktoana/projects/cicero/data/Climdex_bas...    wsdiETCCDI        yr   \n",
       "/home/viktoana/projects/cicero/data/Climdex_bas...    wsdiETCCDI        yr   \n",
       "\n",
       "                                                          model    scenario  \\\n",
       "path                                                                          \n",
       "/home/viktoana/projects/cicero/data/Climdex_bas...  CNRM-ESM2-1  historical   \n",
       "/home/viktoana/projects/cicero/data/Climdex_bas...   ACCESS-CM2  historical   \n",
       "/home/viktoana/projects/cicero/data/Climdex_bas...  CNRM-ESM2-1      ssp126   \n",
       "/home/viktoana/projects/cicero/data/Climdex_bas...   ACCESS-CM2      ssp126   \n",
       "/home/viktoana/projects/cicero/data/Climdex_bas...  CNRM-ESM2-1      ssp245   \n",
       "...                                                         ...         ...   \n",
       "/home/viktoana/projects/cicero/data/Climdex_bas...  UKESM1-0-LL  historical   \n",
       "/home/viktoana/projects/cicero/data/Climdex_bas...  UKESM1-0-LL      ssp126   \n",
       "/home/viktoana/projects/cicero/data/Climdex_bas...  UKESM1-0-LL      ssp245   \n",
       "/home/viktoana/projects/cicero/data/Climdex_bas...  UKESM1-0-LL      ssp370   \n",
       "/home/viktoana/projects/cicero/data/Climdex_bas...  UKESM1-0-LL      ssp585   \n",
       "\n",
       "                                                   init_params   timespan  \n",
       "path                                                                       \n",
       "/home/viktoana/projects/cicero/data/Climdex_bas...    r1i1p1f2  1850-2014  \n",
       "/home/viktoana/projects/cicero/data/Climdex_bas...    r1i1p1f1  1850-2014  \n",
       "/home/viktoana/projects/cicero/data/Climdex_bas...    r1i1p1f2  2015-2100  \n",
       "/home/viktoana/projects/cicero/data/Climdex_bas...    r1i1p1f1  2015-2100  \n",
       "/home/viktoana/projects/cicero/data/Climdex_bas...    r1i1p1f2  2015-2100  \n",
       "...                                                        ...        ...  \n",
       "/home/viktoana/projects/cicero/data/Climdex_bas...    r1i1p1f2  1850-2014  \n",
       "/home/viktoana/projects/cicero/data/Climdex_bas...    r1i1p1f2  2015-2100  \n",
       "/home/viktoana/projects/cicero/data/Climdex_bas...    r1i1p1f2  2015-2100  \n",
       "/home/viktoana/projects/cicero/data/Climdex_bas...    r1i1p1f2  2015-2100  \n",
       "/home/viktoana/projects/cicero/data/Climdex_bas...    r1i1p1f2  2015-2100  \n",
       "\n",
       "[28896 rows x 6 columns]"
      ]
     },
     "execution_count": 7,
     "metadata": {},
     "output_type": "execute_result"
    }
   ],
   "source": [
    "DATASETS"
   ]
  },
  {
   "cell_type": "code",
   "execution_count": 8,
   "id": "c9abeb5b-9316-4493-acf8-431f9147e58c",
   "metadata": {},
   "outputs": [],
   "source": [
    "def update_filters(filters_widget, change):\n",
    "    global filtered_widget\n",
    "    filtered_dataset = filters_widget.get_filtered_dataset()\n",
    "    filters_widget.update_state_from_dataset(filtered_dataset)\n",
    "    if filtered_dataset.shape[0] > 200:\n",
    "        return\n",
    "    filtered_widget.update_state_from_dataset(filtered_dataset)"
   ]
  },
  {
   "cell_type": "code",
   "execution_count": 9,
   "id": "4eab7e34-bf94-4047-b262-053124b726c5",
   "metadata": {},
   "outputs": [],
   "source": [
    "def rebuild_one_block_action(block, change):\n",
    "    cfg = json.loads(block.children[0].children[0].value)\n",
    "    output = block.children[1]\n",
    "    fig, ax = plt.subplots()\n",
    "    with tempfile.NamedTemporaryFile(\"r\") as dataset:\n",
    "        write_dataset_by_query(DATASETS, cfg, dataset.name)\n",
    "        plot_by_query(ax, dataset, cfg)\n",
    "    plt.close()\n",
    "    with output:\n",
    "        output.clear_output()\n",
    "        display(fig)"
   ]
  },
  {
   "cell_type": "code",
   "execution_count": 10,
   "id": "b7e70595-8b68-4e86-8086-e0dd532d5cf2",
   "metadata": {},
   "outputs": [],
   "source": [
    "def staged_block(model_config):\n",
    "    config_widget = Textarea(value=json.dumps(model_config, indent=True), layout={\"flex\": \"6 1 260px\", \"height\": \"10em\", \"overflow\": \"hidden\", \"margin\": \"0 20px 0 0\"})\n",
    "    unstage_button = Button(description=\"Unstage\", button_style=\"danger\", icon=\"trash\")\n",
    "    rebuild_button = Button(description=\"Rebuild\", button_style=\"success\", icon=\"redo\")\n",
    "    output = Output(layout={\"flex\": \"1 1 0px\"})\n",
    "    block = VBox([\n",
    "        HBox([config_widget, VBox([unstage_button, rebuild_button], layout={\"flex\": \"1 1 100px\", \"margin\": \"0 20px 0 0\"})]),\n",
    "        output\n",
    "    ], layout={\"margin\": \"5px 0\"})\n",
    "    rebuild_button.on_click(partial(rebuild_one_block_action, block))\n",
    "    unstage_button.on_click(unstage_one_block_action)\n",
    "    return block"
   ]
  },
  {
   "cell_type": "code",
   "execution_count": 11,
   "id": "1ff4071c-c4ea-4f19-8a15-7fca235083e7",
   "metadata": {},
   "outputs": [],
   "source": [
    "def stage_action(staging_widget, change):\n",
    "    global filtered_widget\n",
    "    global staged_list\n",
    "    to_agg = filtered_widget.get_selected_dataset()\n",
    "    agg_params = staging_widget.get_state()\n",
    "    to_add = []\n",
    "    for model_config in expand_state_into_queries(to_agg, agg_params):\n",
    "        to_add.append(staged_block(model_config))\n",
    "    staged_list.children = tuple(to_add) + staged_list.children"
   ]
  },
  {
   "cell_type": "code",
   "execution_count": 12,
   "id": "4e6e0155-8dea-438c-8410-949d04314106",
   "metadata": {},
   "outputs": [],
   "source": [
    "def rebuild_all_action(change):\n",
    "    global staged_list\n",
    "    for block in staged_list.children:\n",
    "        block.children[0].children[1].children[1].click()\n",
    "        \n",
    "def unstage_all_action(change):\n",
    "    global staged_list\n",
    "    staged_list.children = tuple()\n",
    "    \n",
    "def unstage_one_block_action(change):\n",
    "    global staged_list\n",
    "    for i, block in enumerate(staged_list.children):\n",
    "        if change == block.children[0].children[1].children[0]:\n",
    "            break\n",
    "    staged_list.children = staged_list.children[:i] + staged_list.children[i+1:]"
   ]
  },
  {
   "cell_type": "code",
   "execution_count": 13,
   "id": "d3f41954-6ed9-416a-adb5-76d726e41d8c",
   "metadata": {},
   "outputs": [
    {
     "data": {
      "application/vnd.jupyter.widget-view+json": {
       "model_id": "8c8b39ebe80e4553bbd71519c5e6a6fa",
       "version_major": 2,
       "version_minor": 0
      },
      "text/plain": [
       "Output()"
      ]
     },
     "metadata": {},
     "output_type": "display_data"
    },
    {
     "data": {
      "application/vnd.jupyter.widget-view+json": {
       "model_id": "37ea986c32df4db5a4f308a991b165ac",
       "version_major": 2,
       "version_minor": 0
      },
      "text/plain": [
       "VBox(children=(VBox(children=(Label(value='Configuration filter:'), HBox(children=(VBox(children=(Label(value=…"
      ]
     },
     "metadata": {},
     "output_type": "display_data"
    }
   ],
   "source": [
    "filter_widget = FilterWidget(DATASETS)\n",
    "filter_widget.observe(update_filters)\n",
    "filtered_widget = FilteredWidget()\n",
    "staging_widget = StagingWidget()\n",
    "staging_widget.observe(stage_action)\n",
    "\n",
    "# staged widget\n",
    "\n",
    "button_rebuild_all = Button(description=\"Rebuild all\", icon=\"redo\", button_style=\"success\")\n",
    "button_rebuild_all.on_click(rebuild_all_action)\n",
    "button_unstage_all = Button(description=\"Unstage all\", icon=\"trash\", button_style=\"danger\")\n",
    "button_unstage_all.on_click(unstage_all_action)\n",
    "staged_controls = HBox([button_rebuild_all, button_unstage_all])\n",
    "staged_list = VBox()\n",
    "\n",
    "staged_widget = VBox([\n",
    "    Label(\"Staged for plotting:\"),\n",
    "    staged_controls,\n",
    "    staged_list])\n",
    "\n",
    "app = VBox([filter_widget.render(),\n",
    "            filtered_widget.render(),\n",
    "            staging_widget.render(),\n",
    "            staged_widget])\n",
    "\n",
    "output = Output()\n",
    "display(output, app)\n",
    "filter_widget.reset_filters()"
   ]
  },
  {
   "cell_type": "code",
   "execution_count": null,
   "id": "5f32d92d-b5f1-4db8-a29d-58bfc4add1e7",
   "metadata": {},
   "outputs": [],
   "source": []
  }
 ],
 "metadata": {
  "kernelspec": {
   "display_name": "Python 3 (ipykernel)",
   "language": "python",
   "name": "python3"
  },
  "language_info": {
   "codemirror_mode": {
    "name": "ipython",
    "version": 3
   },
   "file_extension": ".py",
   "mimetype": "text/x-python",
   "name": "python",
   "nbconvert_exporter": "python",
   "pygments_lexer": "ipython3",
   "version": "3.9.4"
  }
 },
 "nbformat": 4,
 "nbformat_minor": 5
}
