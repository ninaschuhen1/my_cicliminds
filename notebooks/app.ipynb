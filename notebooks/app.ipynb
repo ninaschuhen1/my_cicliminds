{
 "cells": [
  {
   "cell_type": "code",
   "execution_count": 1,
   "id": "bccfcaf2-cd81-447c-a7df-e8ed39e89f4c",
   "metadata": {
    "tags": []
   },
   "outputs": [],
   "source": [
    "import os\n",
    "import tempfile\n",
    "\n",
    "import matplotlib.pyplot as plt\n",
    "\n",
    "from IPython.display import clear_output\n",
    "from ipywidgets import Label, VBox"
   ]
  },
  {
   "cell_type": "code",
   "execution_count": 2,
   "id": "208ac685-40da-446a-b2e7-9a2d1af887d9",
   "metadata": {
    "tags": []
   },
   "outputs": [],
   "source": [
    "from cicliminds_lib.query.files import get_datasets"
   ]
  },
  {
   "cell_type": "code",
   "execution_count": 3,
   "id": "1b668979-1f99-4dc6-ba8b-5d5fe5af438e",
   "metadata": {},
   "outputs": [],
   "source": [
    "from cicliminds.widgets.filter import FilterWidget\n",
    "from cicliminds.widgets.filtered import FilteredWidget\n",
    "from cicliminds.widgets.staging import StagingWidget\n",
    "from cicliminds.widgets.staged import StagedWidget\n",
    "from cicliminds.widgets.block import BlockWidget\n",
    "\n",
    "from cicliminds.interface import expand_state_into_queries\n",
    "from cicliminds.backend import write_dataset_by_query\n",
    "from cicliminds.backend import plot_by_query"
   ]
  },
  {
   "cell_type": "code",
   "execution_count": 4,
   "id": "a58f45e4-64dc-466a-9cb3-758241639462",
   "metadata": {
    "tags": []
   },
   "outputs": [],
   "source": [
    "plt.rcParams[\"figure.figsize\"] = (12,8)\n",
    "plt.rcParams['figure.constrained_layout.use'] = True\n",
    "plt.rcParams[\"xtick.direction\"] = \"in\"\n",
    "plt.rcParams[\"xtick.major.size\"] = 8\n",
    "plt.rcParams[\"xtick.major.width\"] = 1.6\n",
    "plt.rcParams[\"xtick.minor.width\"] = 0.8\n",
    "plt.rcParams[\"xtick.minor.size\"] = 4\n",
    "plt.rcParams[\"ytick.direction\"] = \"in\"\n",
    "plt.rcParams[\"ytick.major.width\"] = 1.6\n",
    "plt.rcParams[\"ytick.minor.width\"] = 0.8\n",
    "plt.rcParams[\"ytick.major.size\"] = 8\n",
    "plt.rcParams[\"ytick.minor.size\"] = 4\n",
    "plt.rcParams[\"font.size\"] = 16\n",
    "plt.rcParams[\"lines.linewidth\"] = 3\n",
    "plt.rcParams[\"lines.markersize\"] = 5\n",
    "plt.rcParams[\"savefig.dpi\"] = 300/2.4\n",
    "plt.rcParams[\"savefig.transparent\"] = False\n",
    "plt.rcParams[\"savefig.facecolor\"] = \"white\""
   ]
  },
  {
   "cell_type": "code",
   "execution_count": 5,
   "id": "187c2686-9c5f-46f5-af3e-7b6e6be2ef3b",
   "metadata": {},
   "outputs": [
    {
     "data": {
      "text/plain": [
       "'/home/viktoana/projects/cicero/data/Climdex_base1981-2010'"
      ]
     },
     "metadata": {},
     "output_type": "display_data"
    }
   ],
   "source": [
    "DATA_DIR = os.environ[\"DATA_DIR\"]\n",
    "display(DATA_DIR)"
   ]
  },
  {
   "cell_type": "code",
   "execution_count": 6,
   "id": "725ae76e-27b0-4e86-adf8-72e218d91b8e",
   "metadata": {},
   "outputs": [],
   "source": [
    "DATASETS = get_datasets(DATA_DIR)"
   ]
  },
  {
   "cell_type": "code",
   "execution_count": 7,
   "id": "c9abeb5b-9316-4493-acf8-431f9147e58c",
   "metadata": {},
   "outputs": [],
   "source": [
    "def update_filters(objs, change):\n",
    "    filters_widget = objs[0]\n",
    "    global filtered_widget\n",
    "    filtered_dataset = filters_widget.get_filtered_dataset()\n",
    "    filters_widget.update_state_from_dataset(filtered_dataset)\n",
    "    if filtered_dataset.shape[0] > 200:\n",
    "        return\n",
    "    filtered_widget.update_state_from_dataset(filtered_dataset)"
   ]
  },
  {
   "cell_type": "code",
   "execution_count": 8,
   "id": "800a34cc-76cc-4100-a2b5-4ebf03715314",
   "metadata": {},
   "outputs": [],
   "source": [
    "def stage_action(objs, change):\n",
    "    staging_widget = objs[0]\n",
    "    global filtered_widget\n",
    "    global staged_widget\n",
    "    to_agg = filtered_widget.get_selected_dataset()\n",
    "    agg_params = staging_widget.get_state()\n",
    "    queries_to_add = list(expand_state_into_queries(to_agg, agg_params))\n",
    "    staged_widget.add_blocks_from_queries(queries_to_add)"
   ]
  },
  {
   "cell_type": "code",
   "execution_count": 9,
   "id": "4eab7e34-bf94-4047-b262-053124b726c5",
   "metadata": {},
   "outputs": [],
   "source": [
    "def _is_rebuild_one_action(objs, change):\n",
    "    block_widget = None\n",
    "    for obj in objs:\n",
    "        if isinstance(obj, BlockWidget):\n",
    "            block_widget = obj\n",
    "            break\n",
    "    else:\n",
    "        return None\n",
    "    if block_widget.state[\"rebuild_button\"] is change:\n",
    "        return block_widget\n",
    "    return None\n",
    "\n",
    "def rebuild_one_block_action(objs, change):\n",
    "    block_widget = _is_rebuild_one_action(objs, change)\n",
    "    if block_widget is None:\n",
    "        return\n",
    "    cfg = block_widget.get_query()\n",
    "    fig, ax = plt.subplots()\n",
    "    with tempfile.NamedTemporaryFile(\"r\") as dataset:\n",
    "        write_dataset_by_query(DATASETS, cfg, dataset.name)\n",
    "        plot_by_query(ax, dataset.name, cfg)\n",
    "    plt.close()\n",
    "    with block_widget.capture_output():\n",
    "        clear_output()\n",
    "        display(fig)"
   ]
  },
  {
   "cell_type": "code",
   "execution_count": 11,
   "id": "d3f41954-6ed9-416a-adb5-76d726e41d8c",
   "metadata": {},
   "outputs": [
    {
     "data": {
      "application/vnd.jupyter.widget-view+json": {
       "model_id": "dfbda0762a1549789607ca9b1b9c70fe",
       "version_major": 2,
       "version_minor": 0
      },
      "text/plain": [
       "VBox(children=(VBox(children=(Label(value='Configuration filter:'), HBox(children=(VBox(children=(Label(value=…"
      ]
     },
     "metadata": {},
     "output_type": "display_data"
    }
   ],
   "source": [
    "filter_widget = FilterWidget(DATASETS)\n",
    "filter_widget.observe(update_filters)\n",
    "filtered_widget = FilteredWidget()\n",
    "staging_widget = StagingWidget()\n",
    "staging_widget.observe(stage_action)\n",
    "staged_widget = StagedWidget()\n",
    "staged_widget.observe(rebuild_one_block_action)\n",
    "\n",
    "\n",
    "app = VBox([filter_widget.render(),\n",
    "            filtered_widget.render(),\n",
    "            staging_widget.render(),\n",
    "            staged_widget.render()])\n",
    "\n",
    "display(app)\n",
    "filter_widget.reset_filters()"
   ]
  },
  {
   "cell_type": "code",
   "execution_count": null,
   "id": "5f32d92d-b5f1-4db8-a29d-58bfc4add1e7",
   "metadata": {},
   "outputs": [],
   "source": []
  }
 ],
 "metadata": {
  "kernelspec": {
   "display_name": "Python 3 (ipykernel)",
   "language": "python",
   "name": "python3"
  },
  "language_info": {
   "codemirror_mode": {
    "name": "ipython",
    "version": 3
   },
   "file_extension": ".py",
   "mimetype": "text/x-python",
   "name": "python",
   "nbconvert_exporter": "python",
   "pygments_lexer": "ipython3",
   "version": "3.9.4"
  }
 },
 "nbformat": 4,
 "nbformat_minor": 5
}
